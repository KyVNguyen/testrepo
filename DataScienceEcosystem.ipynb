{
 "cells": [
  {
   "cell_type": "markdown",
   "id": "d84f0ac1-2a43-4534-a2c1-fcd84d526a7a",
   "metadata": {},
   "source": [
    "# Data Science Tools and Ecosystem"
   ]
  },
  {
   "cell_type": "markdown",
   "id": "132bd745-d98f-4967-8e0b-e0d6148c4aaf",
   "metadata": {},
   "source": [
    "In this notebook, Data Science Tools and Ecosystem are summarized."
   ]
  },
  {
   "cell_type": "markdown",
   "id": "8635edc3-e232-47e9-8719-78f82095c606",
   "metadata": {},
   "source": [
    "**Objectives: Some of the key takeaways from this course \"Tools for Data Science\"**\n",
    "- There are many popular languages for Data Science such as Python, SQL, R, and Java.\n",
    "- Some popular data management tools include MySQL, IBM DB2, Orable Database, and Microsoft SQL server.\n",
    "- Some popular code development and execuation tools include  Jupyter Notebook, JupyterLab, Spyder, RStudio, PyCharm.\n",
    "- Libraries are a collection of functions and methods. Popular libraries for Python include Pandas, Numpy, Matplotlib, Seaborn, Scikit-learn and TensorFlow.\n",
    "- Code asset management tools include Git/Github."
   ]
  },
  {
   "cell_type": "markdown",
   "id": "7372526b-4d83-4f67-8711-29dc55756f51",
   "metadata": {},
   "source": [
    "Some of the popular languages that Data Scientists use are:\n",
    "1. Python\n",
    "2. R\n",
    "3. SQL\n",
    "4. Java"
   ]
  },
  {
   "cell_type": "markdown",
   "id": "4facdbae-b068-404d-b051-ea94378cd12c",
   "metadata": {},
   "source": [
    "Some of the commonly used libraries used by Data Scientists include:\n",
    "1. Pandas\n",
    "2. Numpy\n",
    "3. Matplotlib\n",
    "4. Scikit-learn\n",
    "5. Tensorflow"
   ]
  },
  {
   "cell_type": "markdown",
   "id": "0e8c2182-6e6e-40c6-807f-474701c4fc77",
   "metadata": {},
   "source": [
    "|Data Science Tools|\n",
    "|---|\n",
    "|Jupyter IDE|\n",
    "|Spyder|\n",
    "|RStudio|\n",
    "|PyCharm|"
   ]
  },
  {
   "cell_type": "markdown",
   "id": "1d1564a5-1576-4075-ad0d-1880033c9ecf",
   "metadata": {},
   "source": [
    "### Below are a few examples of evaluating arithmetic expressions in Python."
   ]
  },
  {
   "cell_type": "code",
   "execution_count": 3,
   "id": "e74991ae-a424-4f7e-b38a-1d1b117672bd",
   "metadata": {},
   "outputs": [
    {
     "data": {
      "text/plain": [
       "17"
      ]
     },
     "execution_count": 3,
     "metadata": {},
     "output_type": "execute_result"
    }
   ],
   "source": [
    "# This a simple arithmetic expression to multiply then add integers.\n",
    "(3*4)+5"
   ]
  },
  {
   "cell_type": "code",
   "execution_count": 5,
   "id": "3c63d9f6-b464-4392-8aa4-5d4f1e7bc3d0",
   "metadata": {},
   "outputs": [
    {
     "data": {
      "text/plain": [
       "3.3333333333333335"
      ]
     },
     "execution_count": 5,
     "metadata": {},
     "output_type": "execute_result"
    }
   ],
   "source": [
    "# This will convert 200 minutes into hours by dividing by 60.\n",
    "200/60"
   ]
  },
  {
   "cell_type": "markdown",
   "id": "3e5c1aed-bd19-41e5-9e3e-7e2b195382b6",
   "metadata": {},
   "source": [
    "## Author\n",
    "Van Ky Nguyen"
   ]
  },
  {
   "cell_type": "code",
   "execution_count": null,
   "id": "e63456ad-40a6-4f1e-a93a-ce05766e2a4e",
   "metadata": {},
   "outputs": [],
   "source": []
  }
 ],
 "metadata": {
  "kernelspec": {
   "display_name": "Python 3 (ipykernel)",
   "language": "python",
   "name": "python3"
  },
  "language_info": {
   "codemirror_mode": {
    "name": "ipython",
    "version": 3
   },
   "file_extension": ".py",
   "mimetype": "text/x-python",
   "name": "python",
   "nbconvert_exporter": "python",
   "pygments_lexer": "ipython3",
   "version": "3.12.7"
  }
 },
 "nbformat": 4,
 "nbformat_minor": 5
}
